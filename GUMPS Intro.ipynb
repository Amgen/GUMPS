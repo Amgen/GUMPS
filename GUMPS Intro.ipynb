{
 "cells": [
  {
   "cell_type": "markdown",
   "metadata": {
    "slideshow": {
     "slide_type": "skip"
    }
   },
   "source": []
  },
  {
   "cell_type": "markdown",
   "metadata": {
    "slideshow": {
     "slide_type": "slide"
    }
   },
   "source": [
    "![](./img/gumps_logo.PNG)\n",
    "\n",
    "## or... How I Learned to Stop Worrying and Love Python"
   ]
  },
  {
   "attachments": {},
   "cell_type": "markdown",
   "metadata": {
    "slideshow": {
     "slide_type": "slide"
    }
   },
   "source": [
    "## What is GUMPS?\n",
    "\n",
    "* Generic Universal Modeling Platform Software\n",
    "* Re-Envision Complex Models as smaller modules and their interfaces\n",
    "    * Reduces Code Duplication\n",
    "    * Speeds Up Development\n"
   ]
  },
  {
   "attachments": {},
   "cell_type": "markdown",
   "metadata": {
    "slideshow": {
     "slide_type": "slide"
    }
   },
   "source": [
    "## Kernel\n",
    "A Basic Unit of Computation, to create one we need to define three things:\n",
    "\n",
    "1) get_state_class\n",
    "\n",
    "Defines all of the variables needed for computation.\n",
    "\n",
    "2) initialize  \n",
    "\n",
    "A location to create \"expensive\" objects needed for computation, (loading a neural network)\n",
    "\n",
    "3) user_defined_function  \n",
    "\n",
    "Computation code for a single \"step\", takes a variable registry(attr dataclass) as an argument"
   ]
  },
  {
   "cell_type": "code",
   "execution_count": 1,
   "metadata": {
    "slideshow": {
     "slide_type": "-"
    }
   },
   "outputs": [
    {
     "name": "stdout",
     "output_type": "stream",
     "text": [
      "{'x_2', 'n', 'x_0', 'total', 'x_1', 'x_3'}\n"
     ]
    }
   ],
   "source": [
    "from typing import Type\n",
    "from gumps.kernels import AbstractKernel\n",
    "import time\n",
    "import attrs\n",
    "\n",
    "@attrs.define\n",
    "class SphereState:\n",
    "    \"states for the SphereKernel\"\n",
    "    n: int\n",
    "    x_0: float\n",
    "    x_1: float\n",
    "    x_2: float\n",
    "    x_3: float\n",
    "    total: float = 0.0\n",
    "\n",
    "\n",
    "class SphereKernel(AbstractKernel):\n",
    "    \"\"\"This is a sphere kernel. It is a trivial nd optimization problem \"\"\"\n",
    "\n",
    "    def user_defined_function(self, variables:SphereState):\n",
    "        total = 0.0\n",
    "        for i in range(variables.n):\n",
    "            total += (getattr(variables, f'x_{i}') - self.cache[f'a_{i}'])**2.0\n",
    "        variables.total = total\n",
    "\n",
    "    def initialize(self):\n",
    "        #time.sleep(5) #expensive calculation\n",
    "        n = self.model_variables['n']\n",
    "        for i in range(n):\n",
    "            self.cache[f'a_{i}'] = self.model_variables[f'a_{i}']\n",
    "\n",
    "    def get_state_class(self) -> SphereState:\n",
    "        return SphereState\n",
    "\n",
    "#Should not be modified after initialization\n",
    "model_variables = {'n':4, 'a_0': 0.1, 'a_1':0.2, 'a_2': 0.3, 'a_3': -0.2}\n",
    "\n",
    "sphere_kernel = SphereKernel(model_variables=model_variables)\n",
    "\n",
    "#Inspect its allowable states:\n",
    "print(sphere_kernel.allowed_state)"
   ]
  },
  {
   "attachments": {},
   "cell_type": "markdown",
   "metadata": {},
   "source": [
    "## Study"
   ]
  },
  {
   "cell_type": "code",
   "execution_count": 2,
   "metadata": {},
   "outputs": [
    {
     "name": "stdout",
     "output_type": "stream",
     "text": [
      "SphereState(n=4, x_0=1.5, x_1=1.6, x_2=0.7, x_3=1.1, total=5.7700000000000005)\n",
      "********\n",
      "   n  x_0  x_1  x_2  x_3  total\n",
      "0  4  1.5  1.6  0.7  1.1   5.77\n"
     ]
    }
   ],
   "source": [
    "from gumps.studies import SimpleSimulationStudy, SimulationStudy\n",
    "\n",
    "problem = {'x_0': 1.5, 'x_1':1.6, 'x_2': 0.7, 'x_3': 1.1, 'n':4}\n",
    "study = SimpleSimulationStudy(problem, sphere_kernel)\n",
    "result = study.run()\n",
    "print(result)\n",
    "print('********')\n",
    "print(study.state_frame())"
   ]
  },
  {
   "cell_type": "code",
   "execution_count": 3,
   "metadata": {},
   "outputs": [
    {
     "ename": "IllDefinedException",
     "evalue": "('Missing ', {'x_7'})",
     "output_type": "error",
     "traceback": [
      "\u001b[0;31m---------------------------------------------------------------------------\u001b[0m",
      "\u001b[0;31mIllDefinedException\u001b[0m                       Traceback (most recent call last)",
      "\u001b[1;32m/home/wheymann/GUMPS/GUMPS Intro.ipynb Cell 8\u001b[0m line \u001b[0;36m3\n\u001b[1;32m      <a href='vscode-notebook-cell://wsl%2Bubuntu/home/wheymann/GUMPS/GUMPS%20Intro.ipynb#Y104sdnNjb2RlLXJlbW90ZQ%3D%3D?line=0'>1</a>\u001b[0m \u001b[39m#It throws smart errors!\u001b[39;00m\n\u001b[1;32m      <a href='vscode-notebook-cell://wsl%2Bubuntu/home/wheymann/GUMPS/GUMPS%20Intro.ipynb#Y104sdnNjb2RlLXJlbW90ZQ%3D%3D?line=1'>2</a>\u001b[0m problem \u001b[39m=\u001b[39m {\u001b[39m'\u001b[39m\u001b[39mx_0\u001b[39m\u001b[39m'\u001b[39m: \u001b[39m1.5\u001b[39m, \u001b[39m'\u001b[39m\u001b[39mx_7\u001b[39m\u001b[39m'\u001b[39m:\u001b[39m1.6\u001b[39m, \u001b[39m'\u001b[39m\u001b[39mx_2\u001b[39m\u001b[39m'\u001b[39m: \u001b[39m0.7\u001b[39m, \u001b[39m'\u001b[39m\u001b[39mx_3\u001b[39m\u001b[39m'\u001b[39m: \u001b[39m1.1\u001b[39m}\n\u001b[0;32m----> <a href='vscode-notebook-cell://wsl%2Bubuntu/home/wheymann/GUMPS/GUMPS%20Intro.ipynb#Y104sdnNjb2RlLXJlbW90ZQ%3D%3D?line=2'>3</a>\u001b[0m study \u001b[39m=\u001b[39m SimpleSimulationStudy(problem, sphere_kernel)\n",
      "File \u001b[0;32m~/GUMPS/gumps/studies/study.py:64\u001b[0m, in \u001b[0;36mSimpleSimulationStudy.__init__\u001b[0;34m(self, problem, kernel)\u001b[0m\n\u001b[1;32m     62\u001b[0m \u001b[39mdef\u001b[39;00m \u001b[39m__init__\u001b[39m(\u001b[39mself\u001b[39m, problem:\u001b[39mdict\u001b[39m, kernel:AbstractKernel):\n\u001b[1;32m     63\u001b[0m     solver \u001b[39m=\u001b[39m gumps\u001b[39m.\u001b[39msolvers\u001b[39m.\u001b[39msimple_solver\u001b[39m.\u001b[39mSimpleSolver(problem\u001b[39m=\u001b[39mproblem, solver_settings\u001b[39m=\u001b[39m\u001b[39mNone\u001b[39;00m)\n\u001b[0;32m---> 64\u001b[0m     \u001b[39msuper\u001b[39;49m()\u001b[39m.\u001b[39;49m\u001b[39m__init__\u001b[39;49m(solver, kernel)\n",
      "File \u001b[0;32m~/GUMPS/gumps/studies/study.py:22\u001b[0m, in \u001b[0;36mSimulationStudy.__init__\u001b[0;34m(self, solver, kernel)\u001b[0m\n\u001b[1;32m     20\u001b[0m \u001b[39mself\u001b[39m\u001b[39m.\u001b[39mstates \u001b[39m=\u001b[39m []\n\u001b[1;32m     21\u001b[0m \u001b[39mself\u001b[39m\u001b[39m.\u001b[39mresult \u001b[39m=\u001b[39m \u001b[39mNone\u001b[39;00m\n\u001b[0;32m---> 22\u001b[0m \u001b[39mself\u001b[39;49m\u001b[39m.\u001b[39;49mcheck_problem()\n",
      "File \u001b[0;32m~/GUMPS/gumps/studies/study.py:35\u001b[0m, in \u001b[0;36mSimulationStudy.check_problem\u001b[0;34m(self)\u001b[0m\n\u001b[1;32m     33\u001b[0m logger\u001b[39m.\u001b[39mdebug(\u001b[39m\"\u001b[39m\u001b[39mstudy allowed variables: \u001b[39m\u001b[39m%s\u001b[39;00m\u001b[39m  problem variables: \u001b[39m\u001b[39m%s\u001b[39;00m\u001b[39m\"\u001b[39m, allowed, problem)\n\u001b[1;32m     34\u001b[0m \u001b[39mif\u001b[39;00m \u001b[39mnot\u001b[39;00m problem\u001b[39m.\u001b[39missubset(allowed):\n\u001b[0;32m---> 35\u001b[0m     \u001b[39mraise\u001b[39;00m IllDefinedException(\u001b[39m\"\u001b[39m\u001b[39mMissing \u001b[39m\u001b[39m\"\u001b[39m, problem \u001b[39m-\u001b[39m allowed)\n",
      "\u001b[0;31mIllDefinedException\u001b[0m: ('Missing ', {'x_7'})"
     ]
    }
   ],
   "source": [
    "#It throws smart errors!\n",
    "problem = {'x_0': 1.5, 'x_7':1.6, 'x_2': 0.7, 'x_3': 1.1}\n",
    "study = SimpleSimulationStudy(problem, sphere_kernel)"
   ]
  },
  {
   "attachments": {},
   "cell_type": "markdown",
   "metadata": {},
   "source": [
    "# Why?"
   ]
  },
  {
   "cell_type": "code",
   "execution_count": 4,
   "metadata": {},
   "outputs": [],
   "source": [
    "from gumps.studies.batch_study import AbstractBatchStudy\n",
    "from gumps.common.parallel import Parallel\n",
    "import pandas as pd\n",
    "from typing import Callable\n",
    "\n",
    "class BatchStudyMultiProcess(AbstractBatchStudy):\n",
    "    \"create a batch study by using a SimulationStudy and pool processing\"\n",
    "\n",
    "    def __init__(self, *, study:SimulationStudy, parallel:Parallel):\n",
    "        \"create a simulation study with a parallel pool\"\n",
    "        self.study = study\n",
    "        self.parallel = parallel\n",
    "\n",
    "    def start(self):\n",
    "        \"handle any initialization tasks that are needed\"\n",
    "        self.parallel.start()\n",
    "\n",
    "    def stop(self):\n",
    "        \"handle any shutdown tasks that are needed\"\n",
    "        self.parallel.stop()\n",
    "\n",
    "    def run(self, input_data: pd.DataFrame, processing_function:Callable) -> pd.DataFrame:\n",
    "        \"run the batch simulation\"\n",
    "        rows = (row.to_dict() for idx,row in input_data.iterrows())\n",
    "        results = list(self.parallel.runner(self.study.run_data, rows))\n",
    "        self.save_results(input_data, results)\n",
    "\n",
    "        return pd.DataFrame(processing_function(result) for result in results)\n"
   ]
  },
  {
   "cell_type": "code",
   "execution_count": 5,
   "metadata": {},
   "outputs": [
    {
     "name": "stdout",
     "output_type": "stream",
     "text": [
      "   total\n",
      "0   4.29\n",
      "1   5.07\n",
      "2   6.03\n",
      "3   5.74\n"
     ]
    }
   ],
   "source": [
    "parallel = Parallel(poolsize=1) #blame jupyter!\n",
    "batchSphere = BatchStudyMultiProcess(study=study, parallel=parallel)\n",
    "\n",
    "input_data = pd.DataFrame([\n",
    "    {'x_0': 1.1, 'x_1':1.2, 'x_2': 0.5, 'x_3': 1.3},\n",
    "    {'x_0': 1.2, 'x_1':1.3, 'x_2': 0.6, 'x_3': 1.4},\n",
    "    {'x_0': 1.3, 'x_1':1.5, 'x_2': 0.4, 'x_3': 1.5},\n",
    "    {'x_0': 1.4, 'x_1':1.1, 'x_2': 0.3, 'x_3': 1.6}\n",
    "])\n",
    "\n",
    "#Specify what we want!\n",
    "def get_total(frame:pd.DataFrame):\n",
    "    return {'total': frame.total[0]}\n",
    "\n",
    "with batchSphere:\n",
    "    totals = batchSphere.run(input_data, get_total)\n",
    "print(totals)"
   ]
  },
  {
   "cell_type": "code",
   "execution_count": 6,
   "metadata": {},
   "outputs": [
    {
     "name": "stdout",
     "output_type": "stream",
     "text": [
      "    x0  total_squared\n",
      "0  1.1        18.4041\n",
      "1  1.2        25.7049\n",
      "2  1.3        36.3609\n",
      "3  1.4        32.9476\n"
     ]
    }
   ],
   "source": [
    "def get_whatever(frame: pd.DataFrame):\n",
    "    return {'x0': frame.x_0[0], 'total_squared' : frame.total[0]**2}\n",
    "\n",
    "with batchSphere:\n",
    "    totals = batchSphere.run(input_data, get_whatever)\n",
    "\n",
    "print(totals)"
   ]
  },
  {
   "cell_type": "code",
   "execution_count": 7,
   "metadata": {},
   "outputs": [
    {
     "name": "stdout",
     "output_type": "stream",
     "text": [
      "[ 0.05043781 -1.64062427 -0.89912439  0.98359376]\n"
     ]
    }
   ],
   "source": [
    "import scipy\n",
    "import gumps.studies.batch_sphere_study\n",
    "import gumps.solvers.monte_carlo_solver\n",
    "import gumps.apps.monte_carlo\n",
    "\n",
    "distributions = {'x_0':scipy.stats.uniform(0.0, 1), 'x_1':scipy.stats.norm(0, 1),\n",
    "                'x_2':scipy.stats.uniform(-1, 2), 'x_3':scipy.stats.norm(1, 1e-2)}\n",
    "\n",
    "parameters = gumps.solvers.monte_carlo_solver.MonteCarloParameters(variable_distributions=distributions, target_probability=[0.05],\n",
    "        window=10, tolerance=1e-2, min_steps=3, sampler_seed=0, sampler_scramble=False)\n",
    "\n",
    "model_variables = {'a_0': 0.0, 'a_1':0.0, 'a_2':0, 'a_3':0}\n",
    "diffs = [var.replace('a', 'd') for var in model_variables]\n",
    "\n",
    "batch = gumps.studies.batch_sphere_study.BatchLineStudy(model_variables=model_variables)\n",
    "\n",
    "def processing_function(frame: pd.DataFrame):\n",
    "    \"process the dataframe for the loss function\"\n",
    "    return pd.DataFrame(frame[diffs])\n",
    "\n",
    "app = gumps.apps.monte_carlo.MonteCarloApp(parameters=parameters,\n",
    "    processing_function=processing_function,\n",
    "    directory=None,\n",
    "    batch=batch)\n",
    "app.run()\n",
    "\n",
    "answer = app.answer().to_numpy()\n",
    "print(answer)\n"
   ]
  },
  {
   "cell_type": "code",
   "execution_count": 8,
   "metadata": {},
   "outputs": [
    {
     "name": "stdout",
     "output_type": "stream",
     "text": [
      "     total\n",
      "0  15.7300\n",
      "1  50.5300\n",
      "2  41.3300\n",
      "3  65.7300\n",
      "4  49.9800\n",
      "5  61.1800\n",
      "6  62.5800\n",
      "7  43.3800\n",
      "8  61.3675\n",
      "9  63.5675\n"
     ]
    },
    {
     "name": "stderr",
     "output_type": "stream",
     "text": [
      "/home/wheymann/mambaforge/envs/gumps_311/lib/python3.11/site-packages/scipy/stats/_qmc.py:804: UserWarning: The balance properties of Sobol' points require n to be a power of 2.\n",
      "  sample = self._random(n, workers=workers)\n"
     ]
    }
   ],
   "source": [
    "import gumps.solvers.sampler\n",
    "import gumps.apps.parametric_sweep\n",
    "\n",
    "parameters = gumps.solvers.sampler.SamplerSolverParameters(\n",
    "            number_of_samples = 10,\n",
    "            lower_bound = {'x_1':1, 'x_2':2, 'x_3':3},\n",
    "            upper_bound = {'x_1':5, 'x_2':6, 'x_3':7},\n",
    "            sampler = \"sobol\"\n",
    "            )\n",
    "model_variables = {'n':4, 'a_0': 0.1, 'a_1':0.2, 'a_2': 0.3, 'a_3': -0.2}\n",
    "\n",
    "app = gumps.apps.parametric_sweep.ParametricSweepApp(parameters=parameters,\n",
    "    processing_function=get_total,\n",
    "    directory=None,\n",
    "    batch=batchSphere)\n",
    "app.run()\n",
    "print(app.responses)"
   ]
  }
 ],
 "metadata": {
  "celltoolbar": "Slideshow",
  "kernelspec": {
   "display_name": "gumps",
   "language": "python",
   "name": "python3"
  },
  "language_info": {
   "codemirror_mode": {
    "name": "ipython",
    "version": 3
   },
   "file_extension": ".py",
   "mimetype": "text/x-python",
   "name": "python",
   "nbconvert_exporter": "python",
   "pygments_lexer": "ipython3",
   "version": "3.11.6"
  },
  "vscode": {
   "interpreter": {
    "hash": "f25c9a6d1621c91dd5795cec99f1d3ca6da26ae24ef7313ecffcf2349a359eee"
   }
  }
 },
 "nbformat": 4,
 "nbformat_minor": 4
}
