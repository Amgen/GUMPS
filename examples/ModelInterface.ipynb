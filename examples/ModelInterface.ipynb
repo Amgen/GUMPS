{
 "cells": [
  {
   "cell_type": "markdown",
   "metadata": {},
   "source": [
    "# Import libraries"
   ]
  },
  {
   "cell_type": "code",
   "execution_count": 1,
   "metadata": {},
   "outputs": [],
   "source": [
    "from gumps.interface import model_interface\n",
    "from gumps.interface import model_units\n",
    "\n",
    "import attrs\n",
    "import pandas as pd"
   ]
  },
  {
   "cell_type": "markdown",
   "metadata": {},
   "source": [
    "# Create Units"
   ]
  },
  {
   "cell_type": "code",
   "execution_count": 2,
   "metadata": {},
   "outputs": [],
   "source": [
    "@attrs.define\n",
    "class AllowableSimulationTime(model_units.Time):\n",
    "    @classmethod\n",
    "    def bounds_units(cls):\n",
    "        return 'hr'\n",
    "\n",
    "    @classmethod\n",
    "    def lower_bound(cls) -> float|int:\n",
    "        return 0.0\n",
    "\n",
    "    @classmethod\n",
    "    def upper_bound(cls) -> float|int:\n",
    "        return 24.0\n",
    "\n",
    "\n",
    "@attrs.define\n",
    "class ReactorVolume(model_units.Volume):\n",
    "    @classmethod\n",
    "    def bounds_units(cls):\n",
    "        return 'liters'\n",
    "\n",
    "    @classmethod\n",
    "    def lower_bound(cls) -> float|int:\n",
    "        return 10.0\n",
    "\n",
    "    @classmethod\n",
    "    def upper_bound(cls) -> float|int:\n",
    "        return 100.0\n",
    "    \n",
    "\n",
    "@attrs.define\n",
    "class ProductDensity(model_units.Density):\n",
    "    @classmethod\n",
    "    def bounds_units(cls):\n",
    "        return 'kg/m^3'\n",
    "\n",
    "    @classmethod\n",
    "    def lower_bound(cls) -> float|int:\n",
    "        return 1050.0\n",
    "\n",
    "    @classmethod\n",
    "    def upper_bound(cls) -> float|int:\n",
    "        return 1150.0\n",
    "    \n",
    "\n",
    "@attrs.define\n",
    "class ProductViscosity(model_units.Viscosity):\n",
    "    @classmethod\n",
    "    def bounds_units(cls):\n",
    "        return 'cP'\n",
    "\n",
    "    @classmethod\n",
    "    def lower_bound(cls) -> float|int:\n",
    "        return 0.0\n",
    "\n",
    "    @classmethod\n",
    "    def upper_bound(cls) -> float|int:\n",
    "        return 100.0\n",
    "    \n",
    "@attrs.define\n",
    "class MediaDensity(model_units.Density):\n",
    "    @classmethod\n",
    "    def bounds_units(cls):\n",
    "        return 'kg/m^3'\n",
    "\n",
    "    @classmethod\n",
    "    def lower_bound(cls) -> float|int:\n",
    "        return 950.0\n",
    "\n",
    "    @classmethod\n",
    "    def upper_bound(cls) -> float|int:\n",
    "        return 1050.0"
   ]
  },
  {
   "cell_type": "markdown",
   "metadata": {},
   "source": [
    "# Create Units for Pandas Dataframes and Series"
   ]
  },
  {
   "cell_type": "code",
   "execution_count": 3,
   "metadata": {},
   "outputs": [],
   "source": [
    "@attrs.define\n",
    "class ProteinInformation(model_interface.Units):\n",
    "    @staticmethod\n",
    "    def units_used() -> dict[str, model_interface.Unit]:\n",
    "        return {'product_density': ProductDensity,\n",
    "                'product_viscosity': ProductViscosity,\n",
    "                'media_density': MediaDensity}\n"
   ]
  },
  {
   "cell_type": "markdown",
   "metadata": {},
   "source": [
    "# Create a collection of Units"
   ]
  },
  {
   "cell_type": "code",
   "execution_count": 4,
   "metadata": {},
   "outputs": [],
   "source": [
    "@attrs.define\n",
    "class Reactor(model_interface.UnitCollection):\n",
    "    simulation_time: AllowableSimulationTime\n",
    "    reactor_volume: ReactorVolume\n",
    "    protein: ProteinInformation"
   ]
  },
  {
   "cell_type": "markdown",
   "metadata": {},
   "source": [
    "# Work with the units"
   ]
  },
  {
   "cell_type": "code",
   "execution_count": 5,
   "metadata": {},
   "outputs": [
    {
     "data": {
      "text/plain": [
       "AllowableSimulationTime(value=43200.0, units=<Quantity(1, 'second')>)"
      ]
     },
     "execution_count": 5,
     "metadata": {},
     "output_type": "execute_result"
    }
   ],
   "source": [
    "# Lets make a basic unit and then convert it\n",
    "\n",
    "sim_time = AllowableSimulationTime(0.5, 'day')\n",
    "\n",
    "sim_time.convert('s')"
   ]
  },
  {
   "cell_type": "code",
   "execution_count": 6,
   "metadata": {},
   "outputs": [
    {
     "name": "stdout",
     "output_type": "stream",
     "text": [
      "ProteinInformation(value=   product_density  product_viscosity  media_density\n",
      "0           1100.0                1.0          950.0\n",
      "1           1050.0                1.1          990.0\n",
      "2           1140.0                1.2         1010.0, units={'product_density': <Quantity(1.0, 'kilogram / meter ** 3')>, 'product_viscosity': <Quantity(1, 'centipoise')>, 'media_density': <Quantity(1.0, 'kilogram / meter ** 3')>})\n"
     ]
    }
   ],
   "source": [
    "#lets make some proteins\n",
    "\n",
    "df = pd.DataFrame({'product_density': [1100.0, 1050.0, 1140.0],\n",
    "                   'product_viscosity': [1.0, 1.1, 1.2],\n",
    "                   'media_density': [950.0, 990.0, 1010.0]})\n",
    "\n",
    "units = {'product_density': 'kg/m^3',\n",
    "         'product_viscosity': 'cP',\n",
    "         'media_density': 'kg/m^3'}\n",
    "\n",
    "protein1 = ProteinInformation(df, units)\n",
    "\n",
    "print(protein1)"
   ]
  },
  {
   "cell_type": "code",
   "execution_count": 7,
   "metadata": {},
   "outputs": [],
   "source": [
    "#Create a reactor\n",
    "\n",
    "reactor1 = Reactor(AllowableSimulationTime(5.0, 'hr'),\n",
    "                     ReactorVolume(50.0, 'liters'),\n",
    "                     protein1[0])"
   ]
  },
  {
   "cell_type": "code",
   "execution_count": 8,
   "metadata": {},
   "outputs": [
    {
     "data": {
      "text/plain": [
       "ProteinInformation(value=   product_density  product_viscosity  media_density\n",
       "0             1.10             0.0010          950.0\n",
       "1             1.05             0.0011          990.0\n",
       "2             1.14             0.0012         1010.0, units={'product_density': <Quantity(1.0, 'gram / milliliter')>, 'product_viscosity': <Quantity(1, 'pascal * second')>, 'media_density': <Quantity(1.0, 'gram / liter')>})"
      ]
     },
     "execution_count": 8,
     "metadata": {},
     "output_type": "execute_result"
    }
   ],
   "source": [
    "protein1.convert({ProductDensity: 'g/mL',\n",
    "                  ProductViscosity: 'Pa*s',\n",
    "                  MediaDensity: 'g/L'})"
   ]
  },
  {
   "cell_type": "code",
   "execution_count": 9,
   "metadata": {},
   "outputs": [
    {
     "data": {
      "text/plain": [
       "Reactor(simulation_time=AllowableSimulationTime(value=18000.0, units=<Quantity(1, 'second')>), reactor_volume=ReactorVolume(value=0.05000000000000001, units=<Quantity(1, 'meter ** 3')>), protein=ProteinInformation(value=product_density      1100.0\n",
       "product_viscosity       1.0\n",
       "media_density         950.0\n",
       "dtype: float64, units={'product_density': <Quantity(1.0, 'kilogram / meter ** 3')>, 'product_viscosity': <Quantity(1, 'centipoise')>, 'media_density': <Quantity(1.0, 'kilogram / meter ** 3')>}))"
      ]
     },
     "execution_count": 9,
     "metadata": {},
     "output_type": "execute_result"
    }
   ],
   "source": [
    "reactor1.convert({AllowableSimulationTime: 's',\n",
    "                  ReactorVolume: 'm^3'})"
   ]
  }
 ],
 "metadata": {
  "kernelspec": {
   "display_name": "gumps_310",
   "language": "python",
   "name": "python3"
  },
  "language_info": {
   "codemirror_mode": {
    "name": "ipython",
    "version": 3
   },
   "file_extension": ".py",
   "mimetype": "text/x-python",
   "name": "python",
   "nbconvert_exporter": "python",
   "pygments_lexer": "ipython3",
   "version": "3.11.7"
  },
  "orig_nbformat": 4
 },
 "nbformat": 4,
 "nbformat_minor": 2
}
